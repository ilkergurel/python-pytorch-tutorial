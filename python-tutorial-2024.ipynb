{
 "cells": [
  {
   "cell_type": "code",
   "execution_count": 1,
   "metadata": {},
   "outputs": [
    {
     "name": "stdout",
     "output_type": "stream",
     "text": [
      "ilker \n",
      "gürel\n",
      "g\n",
      "7\n",
      "['i', 'l', 'k', 'e', 'r']\n",
      "['k', 'e']\n",
      "r\n",
      "ilkerr\n",
      "[['i', 'l', 'k', 'e', 'r'], ['ilker2']]\n"
     ]
    }
   ],
   "source": [
    "#INTERMEDIATE LEVEL PYTHON LECTURE - https://www.youtube.com/watch?v=HGOBQPFzWKo&t=323s\n",
    "\n",
    "#Lists\n",
    "\n",
    "isim = \"ilker \\ngürel\"\n",
    "print(isim)\n",
    "print(isim[7])\n",
    "print(isim.index(\"g\"))\n",
    "\n",
    "#2D list\n",
    "ilker = [[\"i\", \"l\", \"k\", \"e\", \"r\"], [\"ilker\"]]\n",
    "\n",
    "ilker[-1]=\"ilkerr\"\n",
    "print(ilker[0])\n",
    "print(ilker[0][2:4])\n",
    "print(ilker[1][-1])\n",
    "print(ilker[-1])\n",
    "\n",
    "\n",
    "ilker.append([\"ilker2\"]) #append an item at the end\n",
    "\n",
    "ilker.pop(1) #Remove 2nd item from the list\n",
    "\n",
    "print(ilker)\n"
   ]
  },
  {
   "cell_type": "code",
   "execution_count": 2,
   "metadata": {},
   "outputs": [
    {
     "name": "stdout",
     "output_type": "stream",
     "text": [
      "(('i', 'ilker1'), ('l', 'ilker2'), ('k', 'ilker3'), ('e', 'ilker4'), ('r', 'ilker5'))\n",
      "('l', 'ilker2')\n",
      "ilker2\n"
     ]
    }
   ],
   "source": [
    "#tuples, they are immutable compared to lists\n",
    "\n",
    "ilker=((\"i\",\"ilker1\"),(\"l\",\"ilker2\"),(\"k\",\"ilker3\"),(\"e\",\"ilker4\"),(\"r\",\"ilker5\"))\n",
    "\n",
    "print(ilker)\n",
    "print(ilker[1])\n",
    "print(ilker[1][1])\n",
    "\n",
    "# ilker[1][1] = \"ilker22\"    #cannot perform, because tuples are immutable\n"
   ]
  },
  {
   "cell_type": "code",
   "execution_count": 3,
   "metadata": {},
   "outputs": [
    {
     "name": "stdout",
     "output_type": "stream",
     "text": [
      "5\n"
     ]
    }
   ],
   "source": [
    "#Functions\n",
    "\n",
    "#all arguments (variables) are passed by value. This means that when you pass a variable to a function, \n",
    "#python creates a new copy of the variable within the function. \n",
    "#Any changes made to the variable inside the function do not affect the original variable.\n",
    "\n",
    "def change_input(ii):\n",
    "    ii=ii+1\n",
    "\n",
    "\n",
    "inp = 5\n",
    "change_input(inp)\n",
    "print(inp)"
   ]
  },
  {
   "cell_type": "code",
   "execution_count": 4,
   "metadata": {},
   "outputs": [
    {
     "name": "stdout",
     "output_type": "stream",
     "text": [
      "Subat\n",
      "Mart\n",
      "Not a valid key\n"
     ]
    }
   ],
   "source": [
    "#Dictiontaries - key & value pairs\n",
    "\n",
    "ilker = {\n",
    "    \"Ock\": \"Ocak\",\n",
    "    \"Sub\": \"Subat\",\n",
    "    \"Mar\": \"Mart\"\n",
    "}\n",
    "\n",
    "print(ilker[\"Sub\"])\n",
    "print(ilker.get(\"Mar\",\"Not a valid key\"))\n",
    "print(ilker.get(\"aaa\",\"Not a valid key\"))"
   ]
  },
  {
   "cell_type": "code",
   "execution_count": 1,
   "metadata": {},
   "outputs": [
    {
     "name": "stdout",
     "output_type": "stream",
     "text": [
      "You lost\n"
     ]
    }
   ],
   "source": [
    "#Loop game - guess word\n",
    "secret_word = \"vayvayvay\"\n",
    "guess = \"\"\n",
    "guess_count = 0\n",
    "guess_limit= 3\n",
    "guess_true = False\n",
    "\n",
    "while guess != secret_word and guess_count<guess_limit :\n",
    "    try:\n",
    "        guess = input(\"Enter guess: \")\n",
    "    except ValueError:\n",
    "        print(\"something is invalid\")\n",
    "\n",
    "    if guess == secret_word:\n",
    "        guess_true = True\n",
    "    \n",
    "    guess_count += 1\n",
    "\n",
    "if guess_true:\n",
    "    print(\"You win\")\n",
    "else:\n",
    "    print(\"You lost\")"
   ]
  },
  {
   "cell_type": "code",
   "execution_count": 2,
   "metadata": {},
   "outputs": [
    {
     "name": "stdout",
     "output_type": "stream",
     "text": [
      "ali 20\n",
      "veli 21\n"
     ]
    }
   ],
   "source": [
    "class Student:\n",
    "    def __init__(self, name, age):\n",
    "        self.name = name\n",
    "        self.age = age\n",
    "\n",
    "student1 = Student(\"ali\", 20)\n",
    "student2 = Student(\"veli\", 21)\n",
    "\n",
    "print(student1.name, student1.age)\n",
    "print(student2.name, student2.age)"
   ]
  },
  {
   "cell_type": "code",
   "execution_count": 4,
   "metadata": {},
   "outputs": [
    {
     "name": "stderr",
     "output_type": "stream",
     "text": [
      "07/01/2024 09:38:51 - root - DEBUG - This is a debug message\n",
      "07/01/2024 09:38:51 - root - INFO - This is an info message\n",
      "07/01/2024 09:38:51 - root - WARNING - This is a warning message\n",
      "07/01/2024 09:38:51 - root - ERROR - This is an error message\n",
      "07/01/2024 09:38:51 - root - CRITICAL - This is a critical message\n",
      "__main__ - WARNING - This is a warning\n",
      "__main__ - WARNING - This is a warning\n",
      "07/01/2024 09:38:51 - __main__ - WARNING - This is a warning\n",
      "__main__ - ERROR - This is an error\n",
      "__main__ - ERROR - This is an error\n",
      "07/01/2024 09:38:51 - __main__ - ERROR - This is an error\n",
      "07/01/2024 09:38:51 - root - ERROR - The error is Traceback (most recent call last):\n",
      "  File \"C:\\Users\\ss\\AppData\\Local\\Temp\\ipykernel_2336\\3071680948.py\", line 37, in <module>\n",
      "    val = a[4]\n",
      "          ~^^^\n",
      "IndexError: list index out of range\n",
      "\n"
     ]
    }
   ],
   "source": [
    "import logging\n",
    "\n",
    "logging.basicConfig(level=logging.DEBUG, format='%(asctime)s - %(name)s - %(levelname)s - %(message)s',\n",
    "                    datefmt='%m/%d/%Y %H:%M:%S')\n",
    "\n",
    "logging.debug('This is a debug message')\n",
    "logging.info('This is an info message')\n",
    "logging.warning('This is a warning message')\n",
    "logging.error('This is an error message')\n",
    "logging.critical('This is a critical message')\n",
    "\n",
    "logger = logging.getLogger(__name__)\n",
    "\n",
    "#create handler\n",
    "stream_h = logging.StreamHandler()\n",
    "file_h = logging.FileHandler('file.log')\n",
    "\n",
    "#evel and the format\n",
    "stream_h.setLevel(logging.WARNING)\n",
    "file_h.setLevel(logging.ERROR)\n",
    "\n",
    "formatter = logging.Formatter('%(name)s - %(levelname)s - %(message)s')\n",
    "stream_h.setFormatter(formatter)\n",
    "file_h.setFormatter(formatter)\n",
    "\n",
    "logger.addHandler(stream_h)\n",
    "\n",
    "logger.addHandler(file_h)\n",
    "\n",
    "logger.warning('This is a warning')\n",
    "logger.error('This is an error')\n",
    "\n",
    "#------------------------\n",
    "import traceback\n",
    "\n",
    "try:\n",
    "    a = [1,2,3]\n",
    "    val = a[4]\n",
    "except:\n",
    "    logging.error(\"The error is %s\", traceback.format_exc())"
   ]
  },
  {
   "cell_type": "code",
   "execution_count": 8,
   "metadata": {},
   "outputs": [
    {
     "name": "stdout",
     "output_type": "stream",
     "text": [
      "{\n",
      "    \"city\": \"Ankara\",\n",
      "    \"name\": \"ilker\",\n",
      "    \"titles\": [\n",
      "        \"engineer\",\n",
      "        \"man\"\n",
      "    ]\n",
      "}\n",
      "{'city': 'Ankara', 'name': 'ilker', 'titles': ['engineer', 'man']}\n"
     ]
    }
   ],
   "source": [
    "import json\n",
    "\n",
    "#Create a dictionary\n",
    "person = {'name': 'ilker', 'city': 'Ankara', 'titles':['engineer','man']}\n",
    "\n",
    "#Turn dictionary into json data\n",
    "personJSON = json.dumps(person, indent=4, sort_keys=True)\n",
    "print(personJSON)\n",
    "\n",
    "person = json.loads(personJSON) #Turn back to string\n",
    "print(person)\n",
    "\n",
    "\n"
   ]
  },
  {
   "cell_type": "code",
   "execution_count": 1,
   "metadata": {},
   "outputs": [
    {
     "name": "stdout",
     "output_type": "stream",
     "text": [
      "[-8.63747564  0.04558617  3.06944317  2.11689931]\n",
      "5.091646363524184\n",
      "['D', 'H', 'F', 'A', 'G', 'B', 'C', 'E']\n",
      "19\n",
      "19\n",
      "2\n",
      "14\n"
     ]
    }
   ],
   "source": [
    "import random\n",
    "import numpy as np\n",
    "\n",
    "a= np.random.normal(0,5,4) \n",
    "print(a)\n",
    "b = random.gauss(0, 10)\n",
    "print(b)\n",
    "\n",
    "\n",
    "mylist = list(\"ABCDEFGH\")\n",
    "random.shuffle(mylist)\n",
    "print(mylist)\n",
    "\n",
    "random.seed(10)\n",
    "print(random.randint(1,20))\n",
    "random.seed(10)\n",
    "print(random.randint(1,20))\n",
    "print(random.randint(1,20))\n",
    "print(random.randint(1,20))"
   ]
  },
  {
   "cell_type": "code",
   "execution_count": 3,
   "metadata": {},
   "outputs": [
    {
     "name": "stdout",
     "output_type": "stream",
     "text": [
      "start\n",
      "ilker\n",
      "end\n",
      "**** 1\n",
      "start\n",
      "ilker\n",
      "end\n",
      "ilker gurel\n",
      "**** 2\n",
      "print_name\n",
      "**** 3\n",
      "Help on function print_name in module __main__:\n",
      "\n",
      "print_name(name)\n",
      "\n",
      "None\n"
     ]
    }
   ],
   "source": [
    "#DECORATORS example 1/4\n",
    "import functools\n",
    "\n",
    "def start_end_decorator(func):\n",
    "    @functools.wraps(func)\n",
    "    def wrapper(*args, **kwargs):\n",
    "        print(\"start\")\n",
    "        data = func(*args, **kwargs)\n",
    "        print(\"end\")\n",
    "        return data\n",
    "    return wrapper\n",
    "\n",
    "\n",
    "@start_end_decorator #it is same doing this --> print_name = start_end_decorator(print_name)\n",
    "def print_name(name):\n",
    "    ddata = name + \" gurel\"\n",
    "    print(name)\n",
    "    return ddata\n",
    "\n",
    "print_name(\"ilker\")\n",
    "print('**** 1')\n",
    "print(print_name(\"ilker\"))\n",
    "print('**** 2')\n",
    "print(print_name.__name__)\n",
    "print('**** 3')\n",
    "print(help(print_name))"
   ]
  },
  {
   "cell_type": "code",
   "execution_count": 4,
   "metadata": {},
   "outputs": [
    {
     "name": "stdout",
     "output_type": "stream",
     "text": [
      "Hello İlker1\n",
      "Hello İlker1\n",
      "Hello İlker1\n"
     ]
    }
   ],
   "source": [
    "#DECORATORS example 2/4\n",
    "import functools\n",
    "\n",
    "def repeat(num_times):\n",
    "    def decorator_repeat(func):\n",
    "        @functools.wraps(func)\n",
    "        def wrapper (*args, **kwargs):\n",
    "            for _ in range(num_times):\n",
    "                result = func(*args, **kwargs)\n",
    "            return result\n",
    "        return wrapper\n",
    "    return decorator_repeat\n",
    "\n",
    "\n",
    "@repeat(num_times=3)\n",
    "def greet(name):\n",
    "    print(f'Hello {name}')\n",
    "\n",
    "\n",
    "greet('İlker1')"
   ]
  },
  {
   "cell_type": "code",
   "execution_count": 5,
   "metadata": {},
   "outputs": [
    {
     "name": "stdout",
     "output_type": "stream",
     "text": [
      "Hello İlker1\n",
      "Hello İlker1\n",
      "Hello İlker1\n"
     ]
    }
   ],
   "source": [
    "#DECORATORS example 3/4\n",
    "import functools\n",
    "\n",
    "def repeat(func):\n",
    "\n",
    "    @functools.wraps(func)\n",
    "    def wrapper (*args, **kwargs):\n",
    "        num_times = 3\n",
    "        for _ in range(num_times):\n",
    "            result = func(*args, **kwargs)\n",
    "        return result\n",
    "    return wrapper\n",
    "\n",
    "\n",
    "\n",
    "@repeat\n",
    "def greet(name):\n",
    "    print(f'Hello {name}')\n",
    "\n",
    "\n",
    "greet('İlker1')"
   ]
  },
  {
   "cell_type": "code",
   "execution_count": 9,
   "metadata": {},
   "outputs": [
    {
     "name": "stdout",
     "output_type": "stream",
     "text": [
      "This is executed 1 times\n",
      "Hello\n",
      "5\n",
      "This is executed 2 times\n",
      "Hello\n",
      "This is executed 3 times\n",
      "Hello\n"
     ]
    }
   ],
   "source": [
    "#DECORATORS example 1/4  -- class decorator\n",
    "\n",
    "class CountCalls:\n",
    "    def __init__(self,func):\n",
    "        self.func = func\n",
    "        self.num_calls = 0\n",
    "    def __call__(self, *args, **kwargs):\n",
    "        self.num_calls += 1\n",
    "        print(f'This is executed {self.num_calls} times')\n",
    "        return self.func(*args, **kwargs)\n",
    "\n",
    "@CountCalls\n",
    "def say_hello():\n",
    "    print('Hello')\n",
    "\n",
    "say_hello()\n",
    "ilker = 5\n",
    "print(ilker)\n",
    "say_hello()\n",
    "say_hello()"
   ]
  },
  {
   "cell_type": "code",
   "execution_count": 17,
   "metadata": {},
   "outputs": [
    {
     "name": "stdout",
     "output_type": "stream",
     "text": [
      "2\n",
      "3\n"
     ]
    }
   ],
   "source": [
    "#GENERATORS\n",
    "def mygenerator():\n",
    "    yield 1\n",
    "    yield 2\n",
    "    yield 3\n",
    "\n",
    "g1 = mygenerator()\n",
    "\n",
    "\n",
    "value = next(g1)\n",
    "#print(value)  #lets now write the first value\n",
    "value = next(g1)\n",
    "print(value)\n",
    "value = next(g1)\n",
    "print(value)"
   ]
  },
  {
   "cell_type": "code",
   "execution_count": 20,
   "metadata": {},
   "outputs": [
    {
     "name": "stdout",
     "output_type": "stream",
     "text": [
      "Starting\n",
      "4\n",
      "3\n",
      "2\n",
      "1\n"
     ]
    },
    {
     "ename": "StopIteration",
     "evalue": "",
     "output_type": "error",
     "traceback": [
      "\u001b[1;31m---------------------------------------------------------------------------\u001b[0m",
      "\u001b[1;31mStopIteration\u001b[0m                             Traceback (most recent call last)",
      "Cell \u001b[1;32mIn[20], line 17\u001b[0m\n\u001b[0;32m     15\u001b[0m \u001b[38;5;28mprint\u001b[39m(\u001b[38;5;28mnext\u001b[39m(cd))\n\u001b[0;32m     16\u001b[0m \u001b[38;5;28mprint\u001b[39m(\u001b[38;5;28mnext\u001b[39m(cd))\n\u001b[1;32m---> 17\u001b[0m \u001b[38;5;28mprint\u001b[39m(\u001b[38;5;28mnext\u001b[39m(cd))\n",
      "\u001b[1;31mStopIteration\u001b[0m: "
     ]
    }
   ],
   "source": [
    "#GENERATORS\n",
    "\n",
    "def countdown(num):\n",
    "    print('Starting')\n",
    "    while num > 0:\n",
    "        yield num\n",
    "        num -= 1\n",
    "\n",
    "cd = countdown(4)\n",
    "\n",
    "value = next(cd)\n",
    "print(value)\n",
    "\n",
    "print(next(cd))\n",
    "print(next(cd))\n",
    "print(next(cd))\n",
    "print(next(cd))"
   ]
  },
  {
   "cell_type": "code",
   "execution_count": 34,
   "metadata": {},
   "outputs": [
    {
     "name": "stdout",
     "output_type": "stream",
     "text": [
      "8448728\n",
      "200\n"
     ]
    }
   ],
   "source": [
    "#GENERATORS\n",
    "import sys\n",
    "\n",
    "def firstn(n):\n",
    "    nums = []\n",
    "    num = 0\n",
    "\n",
    "    while num < n:\n",
    "        nums.append(num)\n",
    "        num += 1\n",
    "    return nums\n",
    "\n",
    "def firstn_generator(n):\n",
    "    num = 0\n",
    "\n",
    "    while num < n:\n",
    "        yield num\n",
    "        num  += 1\n",
    "\n",
    "\n",
    "\n",
    "print(sys.getsizeof(firstn(1000000)))\n",
    "print(sys.getsizeof(firstn_generator(1000000)))"
   ]
  },
  {
   "cell_type": "code",
   "execution_count": 44,
   "metadata": {},
   "outputs": [
    {
     "name": "stdout",
     "output_type": "stream",
     "text": [
      "0\n",
      "1\n",
      "1\n",
      "2\n",
      "3\n",
      "5\n",
      "8\n",
      "*********** 1\n",
      "[0, 2, 4, 6, 8]\n",
      "*********** 2\n",
      "[0, 2, 4, 6, 8]\n"
     ]
    }
   ],
   "source": [
    "#GENERATOR\n",
    "import sys\n",
    "\n",
    "def fibonacci(limit):\n",
    "    a, b = 0, 1\n",
    "    while a < limit:\n",
    "        yield a\n",
    "        a, b = b, a+b\n",
    "\n",
    "fib = fibonacci(13)\n",
    "\n",
    "for i in fib:\n",
    "    print(i)\n",
    "\n",
    "print(\"*********** 1\")\n",
    "mygenerator = (i for i in range(10) if i % 2 == 0)\n",
    "\n",
    "\"\"\" if this part is run, generator values already would be passed and we will get empty list below\n",
    "for i in mygenerator:  \n",
    "    print(i)\n",
    "\"\"\"\n",
    "print(list(mygenerator))\n",
    "\n",
    "\n",
    "print(\"*********** 2\")\n",
    "\n",
    "mylist = [i for i in range(10) if i % 2 == 0]\n",
    "print(mylist)"
   ]
  },
  {
   "cell_type": "code",
   "execution_count": 17,
   "metadata": {},
   "outputs": [
    {
     "name": "stdout",
     "output_type": "stream",
     "text": [
      "number of processes:  16\n",
      "ilker\n"
     ]
    },
    {
     "ename": "KeyboardInterrupt",
     "evalue": "",
     "output_type": "error",
     "traceback": [
      "\u001b[1;31m---------------------------------------------------------------------------\u001b[0m",
      "\u001b[1;31mKeyboardInterrupt\u001b[0m                         Traceback (most recent call last)",
      "Cell \u001b[1;32mIn[17], line 19\u001b[0m\n\u001b[0;32m     17\u001b[0m \u001b[38;5;66;03m#Create processes\u001b[39;00m\n\u001b[0;32m     18\u001b[0m \u001b[38;5;28;01mfor\u001b[39;00m i \u001b[38;5;129;01min\u001b[39;00m \u001b[38;5;28mrange\u001b[39m(num_processes):\n\u001b[1;32m---> 19\u001b[0m     p \u001b[38;5;241m=\u001b[39m Process(target\u001b[38;5;241m=\u001b[39msquare_numbers())\n\u001b[0;32m     20\u001b[0m     processes\u001b[38;5;241m.\u001b[39mappend(p)\n\u001b[0;32m     22\u001b[0m \u001b[38;5;66;03m#Start\u001b[39;00m\n",
      "Cell \u001b[1;32mIn[17], line 11\u001b[0m, in \u001b[0;36msquare_numbers\u001b[1;34m()\u001b[0m\n\u001b[0;32m      9\u001b[0m \u001b[38;5;28;01mfor\u001b[39;00m i \u001b[38;5;129;01min\u001b[39;00m \u001b[38;5;28mrange\u001b[39m(\u001b[38;5;241m100\u001b[39m):\n\u001b[0;32m     10\u001b[0m     i \u001b[38;5;241m*\u001b[39m i\n\u001b[1;32m---> 11\u001b[0m     time\u001b[38;5;241m.\u001b[39msleep(\u001b[38;5;241m0.1\u001b[39m)\n",
      "\u001b[1;31mKeyboardInterrupt\u001b[0m: "
     ]
    }
   ],
   "source": [
    "#MULTIPROCESSING\n",
    "\n",
    "import os\n",
    "from multiprocessing import Process, Value, Array\n",
    "import time\n",
    "\n",
    "def square_numbers():\n",
    "    print(\"ilker\")\n",
    "    for i in range(100):\n",
    "        i * i\n",
    "        time.sleep(0.1)\n",
    "\n",
    "processes = []\n",
    "num_processes = os.cpu_count()\n",
    "print(\"number of processes: \", num_processes)\n",
    "\n",
    "#Create processes\n",
    "for i in range(num_processes):\n",
    "    p = Process(target=square_numbers)\n",
    "    processes.append(p)\n",
    "\n",
    "#Start\n",
    "for p in processes:\n",
    "    p.start()\n",
    "\n",
    "#Join  -- so that, wait a process until it is finished --> it makes block the main thread\n",
    "for p in processes:\n",
    "    p.join()  #Wait the process to finish\n",
    "\n",
    "print('end main')"
   ]
  },
  {
   "cell_type": "code",
   "execution_count": 25,
   "metadata": {},
   "outputs": [
    {
     "name": "stdout",
     "output_type": "stream",
     "text": [
      "Number at beginning is  0\n",
      "Starting processes\n",
      "Processes started\n",
      "Number at end is  0\n",
      "end main\n"
     ]
    }
   ],
   "source": [
    "#MULTIPROCESSING with shared value\n",
    "\n",
    "from multiprocessing import Process, Value, Array, Lock, freeze_support\n",
    "import time\n",
    "\n",
    "def add_100(number,lock):\n",
    "    print(\"Function add_100 started\")\n",
    "\n",
    "    for i in range(100):\n",
    "        time.sleep(0.01)\n",
    "        lock.acquire()  #during execution, no other provrss can do this\n",
    "        number.value += 1\n",
    "        lock.release()\n",
    "    print(\"Function add_100 finished\")\n",
    "\n",
    "if __name__ == '__main__':\n",
    "    freeze_support()\n",
    "\n",
    "    lock = Lock()\n",
    "    shared_number = Value(\"i\", 0)  # i: integer with starting value 0\n",
    "    print('Number at beginning is ', shared_number.value)\n",
    "    \n",
    "    p1 = Process(target = add_100, args = (shared_number,lock))\n",
    "    p2 = Process(target = add_100, args = (shared_number,lock))\n",
    "\n",
    "    print(\"Starting processes\")\n",
    "    p1.start()\n",
    "    p2.start()\n",
    "\n",
    "    print(\"Processes started\")\n",
    "    p1.join()\n",
    "    p2.join()\n",
    "\n",
    "    print('Number at end is ', shared_number.value)\n",
    "    \n",
    "    print('end main')"
   ]
  },
  {
   "cell_type": "code",
   "execution_count": 1,
   "metadata": {},
   "outputs": [
    {
     "name": "stdout",
     "output_type": "stream",
     "text": [
      "Starting processes\n",
      "Processes started\n",
      "end main\n"
     ]
    }
   ],
   "source": [
    "#MULTIPROCESSING with shared array\n",
    "\n",
    "from multiprocessing import Process, Value, Array, Lock, freeze_support, Queue\n",
    "import time\n",
    "\n",
    "def square(numbers, queue):\n",
    "    for i in numbers:\n",
    "        queue.put(i*i)\n",
    "\n",
    "def make_negative(numbers, queue):\n",
    "    for i in numbers:\n",
    "        queue.put(i * (-1))\n",
    "\n",
    "if __name__ == '__main__':\n",
    "    freeze_support()\n",
    "\n",
    "    numbers = range(1, 6)\n",
    "\n",
    "    q = Queue()\n",
    "\n",
    "    p1 = Process(target=square, args=(numbers, q))\n",
    "    p2 = Process(target=make_negative, args=(numbers, q))\n",
    "\n",
    "\n",
    "    lock = Lock()\n",
    "\n",
    "\n",
    "    print(\"Starting processes\")\n",
    "    p1.start()\n",
    "    p2.start()\n",
    "\n",
    "    print(\"Processes started\")\n",
    "    p1.join()\n",
    "    p2.join()\n",
    "\n",
    "    while not q.empty():\n",
    "        print(q.get())\n",
    "\n",
    "    \n",
    "    print('end main')"
   ]
  },
  {
   "cell_type": "code",
   "execution_count": 1,
   "metadata": {},
   "outputs": [],
   "source": [
    "#MULTIPROCESSING with process pool\n",
    "\n",
    "from multiprocessing import Process, Value, Array, Lock, freeze_support, Queue, Pool\n",
    "import time\n",
    "\n",
    "def cube(number):\n",
    "    return number * number * number\n",
    "\n",
    "\n",
    "\n",
    "if __name__ == '__main__':\n",
    "    freeze_support()\n",
    "\n",
    "    numbers = range(10)\n",
    "    pool = Pool()\n",
    "\n",
    "    #map, apply, join, close\n",
    "    result= pool.map(cube, numbers)\n",
    "    #pool.apply(cube, numbers[0])\n",
    "\n",
    "    pool.close()\n",
    "    pool.join()\n",
    "\n",
    "    print(result)\n",
    "\n",
    "\n",
    "    \n",
    "    print('end main')"
   ]
  },
  {
   "cell_type": "code",
   "execution_count": 49,
   "metadata": {},
   "outputs": [
    {
     "name": "stdout",
     "output_type": "stream",
     "text": [
      "number of threads:  10\n",
      "end main\n"
     ]
    }
   ],
   "source": [
    "#MULTITHREADING\n",
    "\n",
    "import os\n",
    "from threading import Thread\n",
    "import time\n",
    "\n",
    "def square_numbers():\n",
    "    for i in range(100):\n",
    "        i * i\n",
    "        time.sleep(0.1)\n",
    "\n",
    "threads = []\n",
    "num_threads = 10\n",
    "print(\"number of threads: \", num_threads)\n",
    "\n",
    "#Create processes\n",
    "for i in range(num_threads):\n",
    "    t = Thread(target=square_numbers)\n",
    "    threads.append(t)\n",
    "\n",
    "#Start\n",
    "for t in threads:\n",
    "    t.start()\n",
    "\n",
    "#Join  -- so that, wait a process until it is finished --> it makes block the main thread\n",
    "for t in threads:\n",
    "    t.join()\n",
    "\n",
    "print('end main')"
   ]
  },
  {
   "cell_type": "code",
   "execution_count": 1,
   "metadata": {},
   "outputs": [
    {
     "name": "stdout",
     "output_type": "stream",
     "text": [
      "start value  0\n",
      "end value  2\n",
      "end main\n"
     ]
    }
   ],
   "source": [
    "#MULTITHREADING\n",
    "\n",
    "from  threading import Thread, Lock\n",
    "import time\n",
    "\n",
    "database_value = 0\n",
    "\n",
    "def increase(lock):\n",
    "    global database_value   #share this data between the threads\n",
    "\n",
    "    with lock:   #locks the thread, so other threads are waiting\n",
    "\n",
    "        local_copy = database_value\n",
    "\n",
    "        #processing\n",
    "        local_copy += 1\n",
    "        time.sleep(0.1)\n",
    "        database_value = local_copy\n",
    "\n",
    "   \n",
    "\n",
    "if __name__ == \"__main__\":\n",
    "\n",
    "    lock = Lock()\n",
    "    print('start value ', database_value)\n",
    "\n",
    "    thread1 = Thread(target=increase, args=(lock,))\n",
    "    thread2 = Thread(target=increase, args=(lock,))\n",
    "\n",
    "    thread1.start()\n",
    "    thread2.start()\n",
    "\n",
    "    thread1.join()\n",
    "    thread2.join()\n",
    "\n",
    "    print('end value ',database_value)\n",
    "\n",
    "    print('end main')\n",
    "\n"
   ]
  },
  {
   "cell_type": "code",
   "execution_count": 1,
   "metadata": {},
   "outputs": [
    {
     "name": "stdout",
     "output_type": "stream",
     "text": [
      "in Thread-5 (worker) got 1\n",
      "in Thread-6 (worker) got 2\n",
      "in Thread-7 (worker) got 3\n",
      "in Thread-8 (worker) got 4\n",
      "in Thread-9 (worker) got 5\n",
      "in Thread-10 (worker) got 6\n",
      "in Thread-11 (worker) got 7\n",
      "in Thread-12 (worker) got 8\n",
      "in Thread-13 (worker) got 9\n",
      "in Thread-14 (worker) got 10\n",
      "in Thread-5 (worker) got 11\n",
      "in Thread-6 (worker) got 12\n",
      "in Thread-7 (worker) got 13\n",
      "in Thread-8 (worker) got 14\n",
      "in Thread-9 (worker) got 15\n",
      "in Thread-10 (worker) got 16\n",
      "in Thread-11 (worker) got 17\n",
      "in Thread-12 (worker) got 18\n",
      "in Thread-13 (worker) got 19\n",
      "in Thread-14 (worker) got 20\n",
      "end main\n"
     ]
    }
   ],
   "source": [
    "#MULTITHREADING\n",
    "\n",
    "from  threading import Thread, Lock, current_thread\n",
    "from queue import Queue\n",
    "\n",
    "\n",
    "def worker(q, lock):\n",
    "    while True:\n",
    "        value = q.get()\n",
    "\n",
    "        #processing\n",
    "        with lock:\n",
    "            print(f'in {current_thread().name} got {value}')\n",
    "        q.task_done()\n",
    "\n",
    "   \n",
    "\n",
    "if __name__ == \"__main__\":\n",
    "\n",
    "    q = Queue()\n",
    "    lock = Lock()\n",
    "\n",
    "    num_threads = 10\n",
    "\n",
    "    for i in range(num_threads):\n",
    "        thread = Thread(target= worker, args = (q,lock))  #args should be a tuple\n",
    "        thread.daemon = True  # default value is false. It stops infinite loop like watchdog timer, so as main thread finishes, other threads stop\n",
    "        thread.start()\n",
    "        \n",
    "\n",
    "    for i in range(1,21):\n",
    "        q.put(i)\n",
    "    \n",
    "    q.join()  #wait until thread has finished\n",
    "\n",
    "\n",
    "    print('end main')"
   ]
  },
  {
   "cell_type": "code",
   "execution_count": 12,
   "metadata": {},
   "outputs": [
    {
     "name": "stdout",
     "output_type": "stream",
     "text": [
      "['a', 'b', 'c']\n",
      "[1, 2, 3]\n",
      "beginning:  [1, 2, 3, 4, 5]\n",
      "last:  6\n"
     ]
    }
   ],
   "source": [
    "#ASTERIX OPERATOR *args, **kwargs\n",
    "\n",
    "data = {'a': 1, 'b': 2, 'c': 3}\n",
    "\n",
    "data_key   = [key for key in data]\n",
    "data_value = [data[key] for key in data]\n",
    "\n",
    "print(data_key)\n",
    "print(data_value)\n",
    "\n",
    "numbers = [1,2,3,4,5,6]\n",
    "\n",
    "*beginning, last = numbers\n",
    "\n",
    "print(\"beginning: \",beginning)\n",
    "print(\"last: \",last)\n"
   ]
  },
  {
   "cell_type": "code",
   "execution_count": 19,
   "metadata": {},
   "outputs": [
    {
     "name": "stdout",
     "output_type": "stream",
     "text": [
      "org:  5\n",
      "cpy:  6\n",
      "org:  [-10, 2, 3, 4]\n",
      "cpy:  [-10, 2, 3, 4]\n",
      "org:  [1, 2, 3, 4, 5]\n",
      "cpy:  [-10, 2, 3, 4, 5]\n",
      "org:  [[1, 2, 3, 4, 5], [6, 7, 8, 9]]\n",
      "cpy:  [[1, -10, 3, 4, 5], [6, 7, 8, 9]]\n"
     ]
    }
   ],
   "source": [
    "#COPY AND DEEP COPY\n",
    "org = 5\n",
    "cpy = org  #This is just a copy, original remain same\n",
    "cpy = 6\n",
    "print(\"org: \", org)\n",
    "print(\"cpy: \", cpy)\n",
    "\n",
    "org = [1,2,3,4]\n",
    "cpy = org   #Pointer copy, original will change, as copy changes\n",
    "cpy[0]=-10\n",
    "print(\"org: \", org)\n",
    "print(\"cpy: \", cpy)\n",
    "\n",
    "#one level copy\n",
    "import copy\n",
    "org = [1,2,3,4,5]\n",
    "cpy = copy.copy(org) #only one level deep copy in case of nested lists (multi dimensional), normal copy\n",
    "cpy[0]=-10\n",
    "print(\"org: \", org)\n",
    "print(\"cpy: \", cpy)\n",
    "\n",
    "#Deep copy\n",
    "org = [[1,2,3,4,5],[6,7,8,9]]\n",
    "cpy = copy.deepcopy(org) #only one level deep copy in case of nested lists (multi dimensional), normal copy\n",
    "cpy[0][1]=-10\n",
    "print(\"org: \", org)\n",
    "print(\"cpy: \", cpy)"
   ]
  }
 ],
 "metadata": {
  "kernelspec": {
   "display_name": "base",
   "language": "python",
   "name": "python3"
  },
  "language_info": {
   "codemirror_mode": {
    "name": "ipython",
    "version": 3
   },
   "file_extension": ".py",
   "mimetype": "text/x-python",
   "name": "python",
   "nbconvert_exporter": "python",
   "pygments_lexer": "ipython3",
   "version": "3.11.7"
  },
  "orig_nbformat": 4
 },
 "nbformat": 4,
 "nbformat_minor": 2
}
