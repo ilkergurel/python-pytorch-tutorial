{
 "cells": [
  {
   "cell_type": "code",
   "execution_count": 27,
   "metadata": {},
   "outputs": [],
   "source": [
    "import torch\n",
    "import numpy as np"
   ]
  },
  {
   "cell_type": "code",
   "execution_count": 28,
   "metadata": {},
   "outputs": [
    {
     "name": "stdout",
     "output_type": "stream",
     "text": [
      "t1 tensor:  tensor(4.)\n",
      "t2 tensor:  tensor([[1., 2.],\n",
      "        [3., 4.]])\n",
      "t3 tensor:  tensor([[[ 1.,  2.,  3.],\n",
      "         [ 4.,  5.,  6.],\n",
      "         [ 7.,  8.,  9.]],\n",
      "\n",
      "        [[10., 11., 12.],\n",
      "         [13., 14., 15.],\n",
      "         [16., 17., 18.]]])\n"
     ]
    },
    {
     "data": {
      "text/plain": [
       "torch.Size([2, 3, 3])"
      ]
     },
     "execution_count": 28,
     "metadata": {},
     "output_type": "execute_result"
    }
   ],
   "source": [
    "#TENSORS\n",
    "\n",
    "#1 element tensor\n",
    "t1 = torch.tensor(4.)\n",
    "print(\"t1 tensor: \", t1)\n",
    "\n",
    "#2D tensor\n",
    "t2 = torch.tensor([[1., 2], [3, 4]])\n",
    "print(\"t2 tensor: \", t2)\n",
    "\n",
    "#3D tensor\n",
    "t3 = torch.tensor([[[1., 2, 3],[4, 5, 6], [7, 8, 9]],\n",
    "                   [[10, 11, 12], [13, 14, 15], [16, 17, 18]]])\n",
    "print(\"t3 tensor: \", t3)\n",
    "t3.shape"
   ]
  },
  {
   "cell_type": "code",
   "execution_count": 68,
   "metadata": {},
   "outputs": [
    {
     "name": "stdout",
     "output_type": "stream",
     "text": [
      "y1 =  tensor(17., grad_fn=<AddBackward0>)\n",
      "y2 =  tensor(17., grad_fn=<AddBackward0>)\n",
      "y3 =  tensor(37., grad_fn=<AddBackward0>)\n",
      "dy/dx:  None\n",
      "dy/dw:  tensor(9.)\n",
      "dy/db:  tensor(12.)\n"
     ]
    }
   ],
   "source": [
    "#TENSORS OPERATIONS\n",
    "\n",
    "x = torch.tensor(3.)\n",
    "w = torch.tensor(4., requires_grad = True)\n",
    "b = torch.tensor(5., requires_grad = True)\n",
    "\n",
    "y1 = w * x + b\n",
    "y2 = w * x + b\n",
    "y3 = w * x + b**2\n",
    "\n",
    "y = y1+y2+y3\n",
    "\n",
    "print(\"y1 = \", y1)\n",
    "print(\"y2 = \", y2)\n",
    "print(\"y3 = \", y3)\n",
    "\n",
    "#Compute derivatives\n",
    "y1.backward()\n",
    "y2.backward()\n",
    "y3.backward()\n",
    "\n",
    "#AWhen yo do that, all gradient calculations are summed up \n",
    "print(\"dy/dx: \", x.grad)\n",
    "print(\"dy/dw: \", w.grad)\n",
    "print(\"dy/db: \", b.grad)\n"
   ]
  },
  {
   "cell_type": "code",
   "execution_count": 82,
   "metadata": {},
   "outputs": [
    {
     "name": "stdout",
     "output_type": "stream",
     "text": [
      "y:  tensor([2., 4., 6.], grad_fn=<MulBackward0>)\n",
      "z:  tensor([  8.,  16., 216.], grad_fn=<CatBackward0>)\n",
      "x.grad:  tensor([ 24.,  16., 216.])\n"
     ]
    }
   ],
   "source": [
    "x = torch.tensor([1.0, 2.0, 3.0], requires_grad=True)\n",
    "\n",
    "# Define a simple operation\n",
    "y = x * 2\n",
    "print(\"y: \", y)\n",
    "\n",
    "# Calculate z\n",
    "z = torch.cat((y[0:1]**3, y[1:2]**2, y[2:3]**3)) # to concatenate tensors and y[0:1], y[1:2], and y[2:3] are used to select elements while maintaining the computational graph.\n",
    "print(\"z: \", z)\n",
    "\n",
    "# Compute the gradients\n",
    "z.backward(torch.ones_like(z))\n",
    "\n",
    "# Gradients are stored in x.grad\n",
    "print(\"x.grad: \", x.grad)\n"
   ]
  },
  {
   "cell_type": "code",
   "execution_count": 30,
   "metadata": {},
   "outputs": [
    {
     "name": "stdout",
     "output_type": "stream",
     "text": [
      "x:  [[1 2]\n",
      " [3 4]]\n",
      "y:  tensor([[1, 2],\n",
      "        [3, 4]], dtype=torch.int32)\n",
      "z:  [[1 2]\n",
      " [3 4]]\n"
     ]
    }
   ],
   "source": [
    "x = np.array([[1, 2], [3, 4]])\n",
    "print(\"x: \", x)\n",
    "\n",
    "#Convert numpy array to a torch tensor\n",
    "y = torch.from_numpy(x)\n",
    "print(\"y: \", y)\n",
    "\n",
    "#Convert torch tensor to numpy array\n",
    "z = y.numpy()\n",
    "print(\"z: \", z)"
   ]
  }
 ],
 "metadata": {
  "kernelspec": {
   "display_name": "base",
   "language": "python",
   "name": "python3"
  },
  "language_info": {
   "codemirror_mode": {
    "name": "ipython",
    "version": 3
   },
   "file_extension": ".py",
   "mimetype": "text/x-python",
   "name": "python",
   "nbconvert_exporter": "python",
   "pygments_lexer": "ipython3",
   "version": "3.11.7"
  }
 },
 "nbformat": 4,
 "nbformat_minor": 2
}
